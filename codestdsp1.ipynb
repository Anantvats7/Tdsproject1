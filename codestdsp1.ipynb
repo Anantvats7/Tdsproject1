{
  "nbformat": 4,
  "nbformat_minor": 0,
  "metadata": {
    "colab": {
      "provenance": []
    },
    "kernelspec": {
      "name": "python3",
      "display_name": "Python 3"
    },
    "language_info": {
      "name": "python"
    }
  },
  "cells": [
    {
      "cell_type": "code",
      "execution_count": 33,
      "metadata": {
        "id": "FSZm08g-ZB8Q"
      },
      "outputs": [],
      "source": [
        "import pandas as pd\n",
        "from datetime import datetime\n",
        "import numpy as np\n",
        "from scipy.stats import pearsonr\n",
        "from sklearn.linear_model import LinearRegression\n",
        "\n",
        "\n",
        "users_df = pd.read_csv(\"users.csv\")\n",
        "repos_df = pd.read_csv(\"repositories.csv\")\n",
        "\n",
        "\n",
        "users_df['created_at'] = pd.to_datetime(users_df['created_at'])\n",
        "repos_df['created_at'] = pd.to_datetime(repos_df['created_at'])\n",
        "\n",
        "# 1. Top 5 users in Dublin with the highest followers\n",
        "top_5_followers = users_df.nlargest(5, 'followers')['login'].tolist()\n",
        "\n",
        "# 2. 5 earliest registered GitHub users in Dublin\n",
        "earliest_5_users = users_df.nsmallest(5, 'created_at')['login'].tolist()\n",
        "\n",
        "# 3. Top 3 most popular licenses\n",
        "top_3_licenses = repos_df['license_name'].value_counts().head(3).index.tolist()\n",
        "\n",
        "# 4. Company with majority of developers\n",
        "top_company = users_df['company'].value_counts().idxmax()\n",
        "\n",
        "# 5. Most popular programming language\n",
        "top_language = repos_df['language'].value_counts().idxmax()\n",
        "\n",
        "# 6. Second most popular language among users who joined after 2020\n",
        "second_language_post_2020 = repos_df[\n",
        "    repos_df['login'].isin(users_df[users_df['created_at'] > '2020-01-01']['login'])\n",
        "]['language'].value_counts().index[1]\n",
        "\n",
        "# 7. Language with highest average stars per repo\n",
        "highest_avg_star_language = repos_df.groupby('language')['stargazers_count'].mean().idxmax()\n",
        "\n",
        "# 8. Top 5 users by leader_strength\n",
        "users_df['leader_strength'] = users_df['followers'] / (1 + users_df['following'])\n",
        "top_5_leader_strength = users_df.nlargest(5, 'leader_strength')['login'].tolist()\n",
        "\n",
        "# 9. Correlation between followers and public repos\n",
        "followers_repos_corr = users_df['followers'].corr(users_df['public_repos']).round(3)\n",
        "\n",
        "# 10. Regression slope of followers on repos\n",
        "X = users_df[['public_repos']]\n",
        "y = users_df['followers']\n",
        "reg_model = LinearRegression().fit(X, y)\n",
        "slope_followers_repos = round(reg_model.coef_[0], 3)\n",
        "\n",
        "# 11. Correlation between projects and wikis enabled\n",
        "projects_wikis_corr = repos_df['has_projects'].corr(repos_df['has_wiki']).round(3)\n",
        "\n",
        "# 12. Difference in average following for hireable users vs. non-hireable\n",
        "hireable_following_diff = (users_df[users_df['hireable'] == True]['following'].mean() -\n",
        "                           users_df[users_df['hireable'] == False]['following'].mean()).round(3)\n",
        "\n",
        "# 13. Regression slope of followers on bio word count\n",
        "users_with_bios = users_df.dropna(subset=['bio']).copy()\n",
        "users_with_bios['bio_word_count'] = users_with_bios['bio'].str.split().apply(len)\n",
        "bio_followers_slope = LinearRegression().fit(users_with_bios[['bio_word_count']], users_with_bios['followers']).coef_[0].round(3)\n",
        "\n",
        "# 14. Top 5 users by repos created on weekends\n",
        "repos_df['is_weekend'] = repos_df['created_at'].dt.dayofweek >= 5\n",
        "top_5_weekend_repos = repos_df[repos_df['is_weekend']].groupby('login').size().nlargest(5).index.tolist()\n",
        "\n",
        "# 15. Fraction of users with email when hireable vs. non-hireable\n",
        "email_fraction_hireable = users_df[users_df['hireable'] == True]['email'].notna().mean()\n",
        "email_fraction_non_hireable = users_df[users_df['hireable'] == False]['email'].notna().mean()\n",
        "email_hireable_diff = round(email_fraction_hireable - email_fraction_non_hireable, 3)\n",
        "\n",
        "# 16. Most common surname\n",
        "\n",
        "new_users = users_df[users_df['name'].notna()].copy()\n",
        "new_users['surname'] = new_users['name'].str.split().str[-1].str.strip()\n",
        "surname_counts = new_users['surname'].value_counts()\n",
        "max_count = surname_counts.max()\n",
        "common_surnames = surname_counts[surname_counts == max_count].index.tolist()\n",
        "common_surnames.sort()"
      ]
    },
    {
      "cell_type": "code",
      "source": [
        "print(\"1. Top 5 users by followers:\",\",\".join(top_5_followers))\n",
        "print(\"2. Earliest 5 users:\",\",\".join(earliest_5_users))\n",
        "print(\"3. Top 3 licenses:\",\",\".join(top_3_licenses))\n",
        "print(\"4. Company with most developers:\", top_company)\n",
        "print(\"5. Most popular language:\", top_language)\n",
        "print(\"6. Second most popular language post-2020:\", second_language_post_2020)\n",
        "print(\"7. Language with highest avg stars per repo:\", highest_avg_star_language)\n",
        "print(\"8. Top 5 by leader strength:\",\",\".join(top_5_leader_strength))\n",
        "print(\"9. Correlation followers/repos:\", followers_repos_corr)\n",
        "print(\"10. Slope followers on repos:\", slope_followers_repos)\n",
        "print(\"11. Correlation projects and wiki:\", projects_wikis_corr)\n",
        "print(\"12. Avg following diff (hireable - non-hireable):\", hireable_following_diff)\n",
        "print(\"13. Slope followers on bio word count:\", bio_followers_slope)\n",
        "print(\"14. Top 5 by weekend repos:\",\",\".join(top_5_weekend_repos))\n",
        "print(\"15. Email sharing diff (hireable - non-hireable):\", email_hireable_diff)\n",
        "print(\"16. Most common surname(s):\",\",\".join(common_surnames))\n"
      ],
      "metadata": {
        "colab": {
          "base_uri": "https://localhost:8080/"
        },
        "id": "S-sxRF7DZ_zI",
        "outputId": "2e2d21ff-2a91-42e3-e0dd-dbb624ef4b6c"
      },
      "execution_count": 35,
      "outputs": [
        {
          "output_type": "stream",
          "name": "stdout",
          "text": [
            "1. Top 5 users by followers: orta,jeromeetienne,jonataslaw,steventroughtonsmith,axic\n",
            "2. Earliest 5 users: paulca,adrian,GavinJoyce,amir,ciaranlee\n",
            "3. Top 3 licenses: mit,apache-2.0,other\n",
            "4. Company with most developers: MICROSOFT\n",
            "5. Most popular language: JavaScript\n",
            "6. Second most popular language post-2020: JavaScript\n",
            "7. Language with highest avg stars per repo: MDX\n",
            "8. Top 5 by leader strength: flaviohenriquealmeida,zalando,AnikSarker,wix,CardinalHealth\n",
            "9. Correlation followers/repos: 0.55\n",
            "10. Slope followers on repos: 2.781\n",
            "11. Correlation projects and wiki: 0.315\n",
            "12. Avg following diff (hireable - non-hireable): 48.668\n",
            "13. Slope followers on bio word count: 7.531\n",
            "14. Top 5 by weekend repos: orta,joshuacassidy,No9,wafuwafu13,lmammino\n",
            "15. Email sharing diff (hireable - non-hireable): 0.111\n",
            "16. Most common surname(s): Chen,Kenny,O'Sullivan,Quinn\n"
          ]
        }
      ]
    }
  ]
}